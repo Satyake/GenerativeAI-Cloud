{
  "cells": [
    {
      "cell_type": "code",
      "execution_count": 1,
      "metadata": {
        "colab": {
          "base_uri": "https://localhost:8080/"
        },
        "executionInfo": {
          "elapsed": 26586,
          "status": "ok",
          "timestamp": 1718669546033,
          "user": {
            "displayName": "",
            "userId": ""
          },
          "user_tz": 240
        },
        "id": "6QLvOCQvXFMB",
        "outputId": "272746fd-a382-4d12-9783-a7a62b136efc"
      },
      "outputs": [
        {
          "name": "stdout",
          "output_type": "stream",
          "text": [
            "\u001b[2K     \u001b[90m━━━━━━━━━━━━━━━━━━━━━━━━━━━━━━━━━━━━━━━━\u001b[0m \u001b[32m5.1/5.1 MB\u001b[0m \u001b[31m1.5 MB/s\u001b[0m eta \u001b[36m0:00:00\u001b[0m\n",
            "\u001b[?25h\u001b[33m  WARNING: The script tb-gcp-uploader is installed in '/root/.local/bin' which is not on PATH.\n",
            "  Consider adding this directory to PATH or, if you prefer to suppress this warning, use --no-warn-script-location.\u001b[0m\u001b[33m\n",
            "\u001b[0m"
          ]
        }
      ],
      "source": [
        "!pip install -q --upgrade --user google-cloud-aiplatform"
      ]
    },
    {
      "cell_type": "code",
      "execution_count": 2,
      "metadata": {
        "colab": {
          "base_uri": "https://localhost:8080/"
        },
        "executionInfo": {
          "elapsed": 544503,
          "status": "ok",
          "timestamp": 1718670090527,
          "user": {
            "displayName": "",
            "userId": ""
          },
          "user_tz": 240
        },
        "id": "j53BRdz2dzm_",
        "outputId": "43b44ce1-132c-4d68-bbd2-3d9062a08d33"
      },
      "outputs": [
        {
          "name": "stdout",
          "output_type": "stream",
          "text": [
            "\u001b[2K     \u001b[90m━━━━━━━━━━━━━━━━━━━━━━━━━━━━━━━━━━━━━━━━\u001b[0m \u001b[32m45.1/45.1 kB\u001b[0m \u001b[31m988.5 kB/s\u001b[0m eta \u001b[36m0:00:00\u001b[0m\n",
            "\u001b[2K     \u001b[90m━━━━━━━━━━━━━━━━━━━━━━━━━━━━━━━━━━━━━━━━\u001b[0m \u001b[32m86.7/86.7 kB\u001b[0m \u001b[31m1.1 MB/s\u001b[0m eta \u001b[36m0:00:00\u001b[0m\n",
            "\u001b[?25h  Preparing metadata (setup.py) ... \u001b[?25l\u001b[?25hdone\n",
            "\u001b[2K     \u001b[90m━━━━━━━━━━━━━━━━━━━━━━━━━━━━━━━━━━━━━━━━\u001b[0m \u001b[32m38.0/38.0 MB\u001b[0m \u001b[31m3.8 MB/s\u001b[0m eta \u001b[36m0:00:00\u001b[0m\n",
            "\u001b[2K     \u001b[90m━━━━━━━━━━━━━━━━━━━━━━━━━━━━━━━━━━━━━━━━\u001b[0m \u001b[32m409.0/409.0 kB\u001b[0m \u001b[31m4.6 MB/s\u001b[0m eta \u001b[36m0:00:00\u001b[0m\n",
            "\u001b[2K     \u001b[90m━━━━━━━━━━━━━━━━━━━━━━━━━━━━━━━━━━━━━━━━\u001b[0m \u001b[32m755.5/755.5 MB\u001b[0m \u001b[31m1.0 MB/s\u001b[0m eta \u001b[36m0:00:00\u001b[0m\n",
            "\u001b[2K     \u001b[90m━━━━━━━━━━━━━━━━━━━━━━━━━━━━━━━━━━━━━━━━\u001b[0m \u001b[32m139.8/139.8 kB\u001b[0m \u001b[31m12.4 MB/s\u001b[0m eta \u001b[36m0:00:00\u001b[0m\n",
            "\u001b[2K     \u001b[90m━━━━━━━━━━━━━━━━━━━━━━━━━━━━━━━━━━━━━━━━\u001b[0m \u001b[32m974.0/974.0 kB\u001b[0m \u001b[31m10.9 MB/s\u001b[0m eta \u001b[36m0:00:00\u001b[0m\n",
            "\u001b[2K     \u001b[90m━━━━━━━━━━━━━━━━━━━━━━━━━━━━━━━━━━━━━━━━\u001b[0m \u001b[32m2.2/2.2 MB\u001b[0m \u001b[31m12.0 MB/s\u001b[0m eta \u001b[36m0:00:00\u001b[0m\n",
            "\u001b[2K     \u001b[90m━━━━━━━━━━━━━━━━━━━━━━━━━━━━━━━━━━━━━━━━\u001b[0m \u001b[32m314.7/314.7 kB\u001b[0m \u001b[31m13.8 MB/s\u001b[0m eta \u001b[36m0:00:00\u001b[0m\n",
            "\u001b[2K     \u001b[90m━━━━━━━━━━━━━━━━━━━━━━━━━━━━━━━━━━━━━━━━\u001b[0m \u001b[32m2.0/2.0 MB\u001b[0m \u001b[31m12.1 MB/s\u001b[0m eta \u001b[36m0:00:00\u001b[0m\n",
            "\u001b[2K     \u001b[90m━━━━━━━━━━━━━━━━━━━━━━━━━━━━━━━━━━━━━━━━\u001b[0m \u001b[32m63.8/63.8 kB\u001b[0m \u001b[31m8.8 MB/s\u001b[0m eta \u001b[36m0:00:00\u001b[0m\n",
            "\u001b[2K     \u001b[90m━━━━━━━━━━━━━━━━━━━━━━━━━━━━━━━━━━━━━━━━\u001b[0m \u001b[32m15.4/15.4 MB\u001b[0m \u001b[31m4.6 MB/s\u001b[0m eta \u001b[36m0:00:00\u001b[0m\n",
            "\u001b[2K     \u001b[90m━━━━━━━━━━━━━━━━━━━━━━━━━━━━━━━━━━━━━━━━\u001b[0m \u001b[32m288.3/288.3 kB\u001b[0m \u001b[31m3.1 MB/s\u001b[0m eta \u001b[36m0:00:00\u001b[0m\n",
            "\u001b[2K     \u001b[90m━━━━━━━━━━━━━━━━━━━━━━━━━━━━━━━━━━━━━━━━\u001b[0m \u001b[32m547.8/547.8 kB\u001b[0m \u001b[31m2.7 MB/s\u001b[0m eta \u001b[36m0:00:00\u001b[0m\n",
            "\u001b[2K     \u001b[90m━━━━━━━━━━━━━━━━━━━━━━━━━━━━━━━━━━━━━━━━\u001b[0m \u001b[32m307.2/307.2 kB\u001b[0m \u001b[31m2.3 MB/s\u001b[0m eta \u001b[36m0:00:00\u001b[0m\n",
            "\u001b[2K     \u001b[90m━━━━━━━━━━━━━━━━━━━━━━━━━━━━━━━━━━━━━━━━\u001b[0m \u001b[32m53.6/53.6 kB\u001b[0m \u001b[31m2.4 MB/s\u001b[0m eta \u001b[36m0:00:00\u001b[0m\n",
            "\u001b[2K     \u001b[90m━━━━━━━━━━━━━━━━━━━━━━━━━━━━━━━━━━━━━━━━\u001b[0m \u001b[32m125.2/125.2 kB\u001b[0m \u001b[31m2.4 MB/s\u001b[0m eta \u001b[36m0:00:00\u001b[0m\n",
            "\u001b[2K     \u001b[90m━━━━━━━━━━━━━━━━━━━━━━━━━━━━━━━━━━━━━━━━\u001b[0m \u001b[32m53.0/53.0 kB\u001b[0m \u001b[31m2.4 MB/s\u001b[0m eta \u001b[36m0:00:00\u001b[0m\n",
            "\u001b[2K     \u001b[90m━━━━━━━━━━━━━━━━━━━━━━━━━━━━━━━━━━━━━━━━\u001b[0m \u001b[32m126.5/126.5 kB\u001b[0m \u001b[31m674.8 kB/s\u001b[0m eta \u001b[36m0:00:00\u001b[0m\n",
            "\u001b[2K     \u001b[90m━━━━━━━━━━━━━━━━━━━━━━━━━━━━━━━━━━━━━━━━\u001b[0m \u001b[32m4.5/4.5 MB\u001b[0m \u001b[31m2.3 MB/s\u001b[0m eta \u001b[36m0:00:00\u001b[0m\n",
            "\u001b[2K     \u001b[90m━━━━━━━━━━━━━━━━━━━━━━━━━━━━━━━━━━━━━━━━\u001b[0m \u001b[32m325.5/325.5 kB\u001b[0m \u001b[31m2.9 MB/s\u001b[0m eta \u001b[36m0:00:00\u001b[0m\n",
            "\u001b[2K     \u001b[90m━━━━━━━━━━━━━━━━━━━━━━━━━━━━━━━━━━━━━━━━\u001b[0m \u001b[32m1.1/1.1 MB\u001b[0m \u001b[31m3.1 MB/s\u001b[0m eta \u001b[36m0:00:00\u001b[0m\n",
            "\u001b[2K     \u001b[90m━━━━━━━━━━━━━━━━━━━━━━━━━━━━━━━━━━━━━━━━\u001b[0m \u001b[32m2.0/2.0 MB\u001b[0m \u001b[31m3.2 MB/s\u001b[0m eta \u001b[36m0:00:00\u001b[0m\n",
            "\u001b[2K     \u001b[90m━━━━━━━━━━━━━━━━━━━━━━━━━━━━━━━━━━━━━━━━\u001b[0m \u001b[32m75.6/75.6 kB\u001b[0m \u001b[31m2.7 MB/s\u001b[0m eta \u001b[36m0:00:00\u001b[0m\n",
            "\u001b[2K     \u001b[90m━━━━━━━━━━━━━━━━━━━━━━━━━━━━━━━━━━━━━━━━\u001b[0m \u001b[32m141.9/141.9 kB\u001b[0m \u001b[31m2.4 MB/s\u001b[0m eta \u001b[36m0:00:00\u001b[0m\n",
            "\u001b[2K     \u001b[90m━━━━━━━━━━━━━━━━━━━━━━━━━━━━━━━━━━━━━━━━\u001b[0m \u001b[32m139.2/139.2 kB\u001b[0m \u001b[31m2.6 MB/s\u001b[0m eta \u001b[36m0:00:00\u001b[0m\n",
            "\u001b[2K     \u001b[90m━━━━━━━━━━━━━━━━━━━━━━━━━━━━━━━━━━━━━━━━\u001b[0m \u001b[32m166.7/166.7 kB\u001b[0m \u001b[31m2.6 MB/s\u001b[0m eta \u001b[36m0:00:00\u001b[0m\n",
            "\u001b[2K     \u001b[90m━━━━━━━━━━━━━━━━━━━━━━━━━━━━━━━━━━━━━━━━\u001b[0m \u001b[32m166.0/166.0 MB\u001b[0m \u001b[31m3.8 MB/s\u001b[0m eta \u001b[36m0:00:00\u001b[0m\n",
            "\u001b[2K     \u001b[90m━━━━━━━━━━━━━━━━━━━━━━━━━━━━━━━━━━━━━━━━\u001b[0m \u001b[32m167.9/167.9 MB\u001b[0m \u001b[31m3.4 MB/s\u001b[0m eta \u001b[36m0:00:00\u001b[0m\n",
            "\u001b[2K     \u001b[90m━━━━━━━━━━━━━━━━━━━━━━━━━━━━━━━━━━━━━━━━\u001b[0m \u001b[32m431.4/431.4 kB\u001b[0m \u001b[31m7.9 MB/s\u001b[0m eta \u001b[36m0:00:00\u001b[0m\n",
            "\u001b[2K     \u001b[90m━━━━━━━━━━━━━━━━━━━━━━━━━━━━━━━━━━━━━━━━\u001b[0m \u001b[32m274.7/274.7 kB\u001b[0m \u001b[31m6.3 MB/s\u001b[0m eta \u001b[36m0:00:00\u001b[0m\n",
            "\u001b[2K     \u001b[90m━━━━━━━━━━━━━━━━━━━━━━━━━━━━━━━━━━━━━━━━\u001b[0m \u001b[32m981.5/981.5 kB\u001b[0m \u001b[31m7.5 MB/s\u001b[0m eta \u001b[36m0:00:00\u001b[0m\n",
            "\u001b[?25h  Preparing metadata (setup.py) ... \u001b[?25l\u001b[?25hdone\n",
            "\u001b[2K     \u001b[90m━━━━━━━━━━━━━━━━━━━━━━━━━━━━━━━━━━━━━━━━\u001b[0m \u001b[32m3.4/3.4 MB\u001b[0m \u001b[31m7.6 MB/s\u001b[0m eta \u001b[36m0:00:00\u001b[0m\n",
            "\u001b[2K     \u001b[90m━━━━━━━━━━━━━━━━━━━━━━━━━━━━━━━━━━━━━━━━\u001b[0m \u001b[32m41.0/41.0 kB\u001b[0m \u001b[31m5.7 MB/s\u001b[0m eta \u001b[36m0:00:00\u001b[0m\n",
            "\u001b[2K     \u001b[90m━━━━━━━━━━━━━━━━━━━━━━━━━━━━━━━━━━━━━━━━\u001b[0m \u001b[32m21.3/21.3 MB\u001b[0m \u001b[31m6.7 MB/s\u001b[0m eta \u001b[36m0:00:00\u001b[0m\n",
            "\u001b[?25h  Preparing metadata (setup.py) ... \u001b[?25l\u001b[?25hdone\n",
            "\u001b[2K     \u001b[90m━━━━━━━━━━━━━━━━━━━━━━━━━━━━━━━━━━━━━━━━\u001b[0m \u001b[32m18.9/18.9 MB\u001b[0m \u001b[31m8.4 MB/s\u001b[0m eta \u001b[36m0:00:00\u001b[0m\n",
            "\u001b[2K     \u001b[90m━━━━━━━━━━━━━━━━━━━━━━━━━━━━━━━━━━━━━━━━\u001b[0m \u001b[32m194.3/194.3 kB\u001b[0m \u001b[31m9.8 MB/s\u001b[0m eta \u001b[36m0:00:00\u001b[0m\n",
            "\u001b[2K     \u001b[90m━━━━━━━━━━━━━━━━━━━━━━━━━━━━━━━━━━━━━━━━\u001b[0m \u001b[32m103.0/103.0 kB\u001b[0m \u001b[31m9.3 MB/s\u001b[0m eta \u001b[36m0:00:00\u001b[0m\n",
            "\u001b[2K     \u001b[90m━━━━━━━━━━━━━━━━━━━━━━━━━━━━━━━━━━━━━━━━\u001b[0m \u001b[32m12.3/12.3 MB\u001b[0m \u001b[31m9.5 MB/s\u001b[0m eta \u001b[36m0:00:00\u001b[0m\n",
            "\u001b[2K     \u001b[90m━━━━━━━━━━━━━━━━━━━━━━━━━━━━━━━━━━━━━━━━\u001b[0m \u001b[32m82.2/82.2 kB\u001b[0m \u001b[31m8.6 MB/s\u001b[0m eta \u001b[36m0:00:00\u001b[0m\n",
            "\u001b[2K     \u001b[90m━━━━━━━━━━━━━━━━━━━━━━━━━━━━━━━━━━━━━━━━\u001b[0m \u001b[32m49.2/49.2 kB\u001b[0m \u001b[31m6.3 MB/s\u001b[0m eta \u001b[36m0:00:00\u001b[0m\n",
            "\u001b[2K     \u001b[90m━━━━━━━━━━━━━━━━━━━━━━━━━━━━━━━━━━━━━━━━\u001b[0m \u001b[32m139.0/139.0 kB\u001b[0m \u001b[31m9.2 MB/s\u001b[0m eta \u001b[36m0:00:00\u001b[0m\n",
            "\u001b[2K     \u001b[90m━━━━━━━━━━━━━━━━━━━━━━━━━━━━━━━━━━━━━━━━\u001b[0m \u001b[32m77.9/77.9 kB\u001b[0m \u001b[31m9.1 MB/s\u001b[0m eta \u001b[36m0:00:00\u001b[0m\n",
            "\u001b[2K     \u001b[90m━━━━━━━━━━━━━━━━━━━━━━━━━━━━━━━━━━━━━━━━\u001b[0m \u001b[32m57.5/57.5 kB\u001b[0m \u001b[31m9.0 MB/s\u001b[0m eta \u001b[36m0:00:00\u001b[0m\n",
            "\u001b[2K     \u001b[90m━━━━━━━━━━━━━━━━━━━━━━━━━━━━━━━━━━━━━━━━\u001b[0m \u001b[32m58.3/58.3 kB\u001b[0m \u001b[31m8.7 MB/s\u001b[0m eta \u001b[36m0:00:00\u001b[0m\n",
            "\u001b[2K     \u001b[90m━━━━━━━━━━━━━━━━━━━━━━━━━━━━━━━━━━━━━━━━\u001b[0m \u001b[32m145.0/145.0 kB\u001b[0m \u001b[31m10.0 MB/s\u001b[0m eta \u001b[36m0:00:00\u001b[0m\n",
            "\u001b[2K     \u001b[90m━━━━━━━━━━━━━━━━━━━━━━━━━━━━━━━━━━━━━━━━\u001b[0m \u001b[32m862.7/862.7 kB\u001b[0m \u001b[31m9.7 MB/s\u001b[0m eta \u001b[36m0:00:00\u001b[0m\n",
            "\u001b[2K     \u001b[90m━━━━━━━━━━━━━━━━━━━━━━━━━━━━━━━━━━━━━━━━\u001b[0m \u001b[32m290.4/290.4 kB\u001b[0m \u001b[31m11.2 MB/s\u001b[0m eta \u001b[36m0:00:00\u001b[0m\n",
            "\u001b[2K     \u001b[90m━━━━━━━━━━━━━━━━━━━━━━━━━━━━━━━━━━━━━━━━\u001b[0m \u001b[32m542.1/542.1 kB\u001b[0m \u001b[31m10.0 MB/s\u001b[0m eta \u001b[36m0:00:00\u001b[0m\n",
            "\u001b[2K     \u001b[90m━━━━━━━━━━━━━━━━━━━━━━━━━━━━━━━━━━━━━━━━\u001b[0m \u001b[32m116.3/116.3 kB\u001b[0m \u001b[31m9.8 MB/s\u001b[0m eta \u001b[36m0:00:00\u001b[0m\n",
            "\u001b[2K     \u001b[90m━━━━━━━━━━━━━━━━━━━━━━━━━━━━━━━━━━━━━━━━\u001b[0m \u001b[32m64.9/64.9 kB\u001b[0m \u001b[31m9.4 MB/s\u001b[0m eta \u001b[36m0:00:00\u001b[0m\n",
            "\u001b[2K     \u001b[90m━━━━━━━━━━━━━━━━━━━━━━━━━━━━━━━━━━━━━━━━\u001b[0m \u001b[32m194.1/194.1 kB\u001b[0m \u001b[31m10.5 MB/s\u001b[0m eta \u001b[36m0:00:00\u001b[0m\n",
            "\u001b[2K     \u001b[90m━━━━━━━━━━━━━━━━━━━━━━━━━━━━━━━━━━━━━━━━\u001b[0m \u001b[32m134.8/134.8 kB\u001b[0m \u001b[31m10.5 MB/s\u001b[0m eta \u001b[36m0:00:00\u001b[0m\n",
            "\u001b[2K     \u001b[90m━━━━━━━━━━━━━━━━━━━━━━━━━━━━━━━━━━━━━━━━\u001b[0m \u001b[32m207.3/207.3 kB\u001b[0m \u001b[31m10.4 MB/s\u001b[0m eta \u001b[36m0:00:00\u001b[0m\n",
            "\u001b[2K     \u001b[90m━━━━━━━━━━━━━━━━━━━━━━━━━━━━━━━━━━━━━━━━\u001b[0m \u001b[32m80.8/80.8 kB\u001b[0m \u001b[31m9.0 MB/s\u001b[0m eta \u001b[36m0:00:00\u001b[0m\n",
            "\u001b[2K     \u001b[90m━━━━━━━━━━━━━━━━━━━━━━━━━━━━━━━━━━━━━━━━\u001b[0m \u001b[32m54.5/54.5 kB\u001b[0m \u001b[31m8.1 MB/s\u001b[0m eta \u001b[36m0:00:00\u001b[0m\n",
            "\u001b[2K     \u001b[90m━━━━━━━━━━━━━━━━━━━━━━━━━━━━━━━━━━━━━━━━\u001b[0m \u001b[32m327.6/327.6 kB\u001b[0m \u001b[31m10.8 MB/s\u001b[0m eta \u001b[36m0:00:00\u001b[0m\n",
            "\u001b[2K     \u001b[90m━━━━━━━━━━━━━━━━━━━━━━━━━━━━━━━━━━━━━━━━\u001b[0m \u001b[32m62.7/62.7 kB\u001b[0m \u001b[31m9.0 MB/s\u001b[0m eta \u001b[36m0:00:00\u001b[0m\n",
            "\u001b[?25h  Building wheel for colbert-ai (setup.py) ... \u001b[?25l\u001b[?25hdone\n",
            "  Building wheel for bson (setup.py) ... \u001b[?25l\u001b[?25hdone\n",
            "  Building wheel for langdetect (setup.py) ... \u001b[?25l\u001b[?25hdone\n",
            "\u001b[31mERROR: pip's dependency resolver does not currently take into account all the packages that are installed. This behaviour is the source of the following dependency conflicts.\n",
            "google-colab 1.0.0 requires requests==2.31.0, but you have requests 2.32.3 which is incompatible.\n",
            "imageio 2.31.6 requires pillow<10.1.0,>=8.3.2, but you have pillow 10.3.0 which is incompatible.\n",
            "torchaudio 2.3.0+cu121 requires torch==2.3.0, but you have torch 2.2.1 which is incompatible.\n",
            "torchtext 0.18.0 requires torch>=2.3.0, but you have torch 2.2.1 which is incompatible.\n",
            "torchvision 0.18.0+cu121 requires torch==2.3.0, but you have torch 2.2.1 which is incompatible.\u001b[0m\u001b[31m\n",
            "\u001b[0m"
          ]
        }
      ],
      "source": [
        "!pip -q  install ragstack-ai"
      ]
    },
    {
      "cell_type": "code",
      "execution_count": 3,
      "metadata": {
        "executionInfo": {
          "elapsed": 12,
          "status": "ok",
          "timestamp": 1718670090527,
          "user": {
            "displayName": "",
            "userId": ""
          },
          "user_tz": 240
        },
        "id": "HFtkx6bhd8k5"
      },
      "outputs": [],
      "source": [
        "\n",
        "\n",
        "PROJECT_ID='mythical-style-346821'\n",
        "LOCATION='us-central1'"
      ]
    },
    {
      "cell_type": "code",
      "execution_count": 4,
      "metadata": {
        "executionInfo": {
          "elapsed": 10,
          "status": "ok",
          "timestamp": 1718670090528,
          "user": {
            "displayName": "",
            "userId": ""
          },
          "user_tz": 240
        },
        "id": "l2jcn2ehfSty"
      },
      "outputs": [],
      "source": [
        "import os\n",
        "os.environ['GCP_PROJECT_ID']=PROJECT_ID\n",
        "os.environ['LOCATION']=LOCATION"
      ]
    },
    {
      "cell_type": "code",
      "execution_count": 5,
      "metadata": {
        "colab": {
          "base_uri": "https://localhost:8080/"
        },
        "executionInfo": {
          "elapsed": 7270,
          "status": "ok",
          "timestamp": 1718670097790,
          "user": {
            "displayName": "",
            "userId": ""
          },
          "user_tz": 240
        },
        "id": "-ej47GY0hPGs",
        "outputId": "965b3848-df93-4690-e34f-a86745edc03e"
      },
      "outputs": [
        {
          "name": "stdout",
          "output_type": "stream",
          "text": [
            "Updated property [core/project].\n"
          ]
        }
      ],
      "source": [
        "!gcloud config set project {os.getenv(\"GCP_PROJECT_ID\")}"
      ]
    },
    {
      "cell_type": "code",
      "execution_count": 6,
      "metadata": {
        "executionInfo": {
          "elapsed": 1997,
          "status": "ok",
          "timestamp": 1718670099781,
          "user": {
            "displayName": "",
            "userId": ""
          },
          "user_tz": 240
        },
        "id": "h37bga_VhTTL"
      },
      "outputs": [],
      "source": [
        "import sys\n",
        "if \"google.colab\" in sys.modules:\n",
        "  from google.colab import auth as google_auth\n",
        "  google_auth.authenticate_user()"
      ]
    },
    {
      "cell_type": "code",
      "execution_count": 7,
      "metadata": {
        "executionInfo": {
          "elapsed": 17165,
          "status": "ok",
          "timestamp": 1718670116941,
          "user": {
            "displayName": "",
            "userId": ""
          },
          "user_tz": 240
        },
        "id": "_5Ckn0SmdBRn"
      },
      "outputs": [],
      "source": [
        "import vertexai"
      ]
    },
    {
      "cell_type": "code",
      "execution_count": 8,
      "metadata": {
        "executionInfo": {
          "elapsed": 8,
          "status": "ok",
          "timestamp": 1718670116942,
          "user": {
            "displayName": "",
            "userId": ""
          },
          "user_tz": 240
        },
        "id": "tB0DFoHydS4F"
      },
      "outputs": [],
      "source": [
        "vertexai.init(project=PROJECT_ID, location=LOCATION)"
      ]
    },
    {
      "cell_type": "code",
      "execution_count": 9,
      "metadata": {
        "executionInfo": {
          "elapsed": 6,
          "status": "ok",
          "timestamp": 1718670116943,
          "user": {
            "displayName": "",
            "userId": ""
          },
          "user_tz": 240
        },
        "id": "apwvMIYmdVoT"
      },
      "outputs": [],
      "source": [
        "from vertexai.preview.generative_models import GenerativeModel\n",
        "model=GenerativeModel(\"gemini-1.0-pro\")"
      ]
    },
    {
      "cell_type": "code",
      "execution_count": 10,
      "metadata": {
        "executionInfo": {
          "elapsed": 6,
          "status": "ok",
          "timestamp": 1718670116943,
          "user": {
            "displayName": "",
            "userId": ""
          },
          "user_tz": 240
        },
        "id": "jjbOzHq0dYT2"
      },
      "outputs": [],
      "source": [
        "response=model.generate_content(\"What is a color of sky\", stream=True)"
      ]
    },
    {
      "cell_type": "code",
      "execution_count": 11,
      "metadata": {
        "colab": {
          "base_uri": "https://localhost:8080/"
        },
        "executionInfo": {
          "elapsed": 4005,
          "status": "ok",
          "timestamp": 1718670120942,
          "user": {
            "displayName": "",
            "userId": ""
          },
          "user_tz": 240
        },
        "id": "tBdoCvMfdcTE",
        "outputId": "9df8f79f-9d6f-48f2-f042-3248fa81aa65"
      },
      "outputs": [
        {
          "name": "stdout",
          "output_type": "stream",
          "text": [
            "The color of the sky is predominantly **blue** during the day. However, it can change depending on various factors such as:\n",
            "\n",
            "* **Time of day:** The color of the sky changes with the position of the sun. At sunrise and sunset, the sky appears **red, orange, or yellow** due to the scattering of sunlight through thicker layers of atmosphere.\n",
            "* **Atmospheric conditions:** Dust, clouds, and pollution can affect the color of the sky. For example, clouds can make the sky appear **white or gray**, while dust can make it appear **hazy or reddish**.\n",
            "* **Geographical location:** The color of the sky may differ slightly depending on the altitude, latitude, and time zone.\n",
            "\n",
            "The blue color of the sky is primarily caused by a phenomenon called **Rayleigh scattering**. When sunlight enters the Earth's atmosphere, it interacts with the air molecules. Blue light, which has a shorter wavelength compared to other colors, is scattered more efficiently than other wavelengths. This scattered blue light reaches our eyes from all directions, making the sky appear blue.\n",
            "\n",
            "Here are some additional facts about the color of the sky:\n",
            "\n",
            "* The sky appears black at night because there is no sunlight to scatter.\n",
            "* The scattering of light is also responsible for the blue color of water.\n",
            "* Some planets have different colored skies due to the composition of their atmospheres. For example, Mars has a reddish sky due to the presence of iron oxide dust in its atmosphere."
          ]
        }
      ],
      "source": [
        "for response in response:\n",
        "  print(response.text, end=\"\")"
      ]
    },
    {
      "cell_type": "code",
      "execution_count": 11,
      "metadata": {
        "executionInfo": {
          "elapsed": 5,
          "status": "ok",
          "timestamp": 1718670120943,
          "user": {
            "displayName": "",
            "userId": ""
          },
          "user_tz": 240
        },
        "id": "aAb-g2VkoC3n"
      },
      "outputs": [],
      "source": []
    },
    {
      "cell_type": "code",
      "execution_count": 11,
      "metadata": {
        "executionInfo": {
          "elapsed": 4,
          "status": "ok",
          "timestamp": 1718670120943,
          "user": {
            "displayName": "",
            "userId": ""
          },
          "user_tz": 240
        },
        "id": "7ypgGC6soyLp"
      },
      "outputs": [],
      "source": []
    },
    {
      "cell_type": "code",
      "execution_count": 12,
      "metadata": {
        "executionInfo": {
          "elapsed": 4,
          "status": "ok",
          "timestamp": 1718670120943,
          "user": {
            "displayName": "",
            "userId": ""
          },
          "user_tz": 240
        },
        "id": "oZXHNBG5pQ9Z"
      },
      "outputs": [],
      "source": [
        "from vertexai.preview.generative_models import (\n",
        "    GenerationConfig,\n",
        "    GenerativeModel,\n",
        "    HarmCategory,\n",
        "    HarmBlockThreshold,\n",
        "    Image,\n",
        "    Part\n",
        ")"
      ]
    },
    {
      "cell_type": "code",
      "execution_count": 13,
      "metadata": {
        "colab": {
          "base_uri": "https://localhost:8080/"
        },
        "executionInfo": {
          "elapsed": 5632,
          "status": "ok",
          "timestamp": 1718670126572,
          "user": {
            "displayName": "",
            "userId": ""
          },
          "user_tz": 240
        },
        "id": "-HDON4WZqLIy",
        "outputId": "a0462116-9cdc-47b0-d890-1db10f1e882f"
      },
      "outputs": [
        {
          "name": "stdout",
          "output_type": "stream",
          "text": [
            "## 10 Trends in Tech for 2023 and Beyond:\n",
            "\n",
            "1. **Generative AI:** AI models capable of creating new content, like images, videos, and even code, will continue to evolve rapidly, blurring the lines between human and machine creativity.\n",
            "2. **The Metaverse:** The convergence of virtual and augmented reality technologies will create immersive experiences for work, play, and social interaction, opening doors to entirely new digital worlds.\n",
            "3. **Web3 and Blockchain:** Decentralized technologies based on blockchain will disrupt traditional business models, empowering individuals with greater control over their data and digital identities.\n",
            "4. **Quantum Computing:** This emerging technology promises to revolutionize fields like medicine, materials science, and artificial intelligence by tackling previously unsolvable problems.\n",
            "5. **Hyperautomation:** The intelligent automation of repetitive tasks across various business functions will free up human resources for more strategic and creative endeavors.\n",
            "6. **Cybersecurity Mesh:** A new approach to cybersecurity that integrates various security tools and technologies to provide a more comprehensive and adaptable defense against evolving threats.\n",
            "7. **Digital Sustainability:** Technologies like AI and IoT will play a crucial role in mitigating climate change and promoting environmentally responsible practices.\n",
            "8. **Biotechnology Advancements:** From personalized medicine to gene editing, breakthroughs in biotechnology will offer solutions for various health challenges and enhance human capabilities.\n",
            "9. **Space Exploration and Technology:** The private sector is driving a new era of space exploration, with reusable rockets, satellite constellations, and lunar missions all on the horizon.\n",
            "10. **The Rise of the \"Everything-as-a-Service\" Model:** From software to infrastructure, more services will be delivered on-demand via the cloud, enabling greater flexibility and scalability for businesses and individuals. \n"
          ]
        }
      ],
      "source": [
        "prompt=\"\"\"\n",
        "Create a numered list of 10 items\n",
        "Each item should be a trend in tech \"\"\"\n",
        "output=model.generate_content(prompt, stream=True)\n",
        "for response in output:\n",
        "  print(response.text, end=\"\")"
      ]
    },
    {
      "cell_type": "code",
      "execution_count": 14,
      "metadata": {
        "executionInfo": {
          "elapsed": 5,
          "status": "ok",
          "timestamp": 1718670126573,
          "user": {
            "displayName": "",
            "userId": ""
          },
          "user_tz": 240
        },
        "id": "Ui28q2ZCqYiq"
      },
      "outputs": [],
      "source": [
        "config=GenerationConfig(\n",
        "    temperature=0.7,\n",
        "    max_output_tokens=100,\n",
        "    top_p=1\n",
        ")"
      ]
    },
    {
      "cell_type": "code",
      "execution_count": 15,
      "metadata": {
        "colab": {
          "base_uri": "https://localhost:8080/"
        },
        "executionInfo": {
          "elapsed": 1323,
          "status": "ok",
          "timestamp": 1718670127892,
          "user": {
            "displayName": "",
            "userId": ""
          },
          "user_tz": 240
        },
        "id": "hhZc0q1Pq6PO",
        "outputId": "a666b56a-9371-49c7-f867-07d4f8160231"
      },
      "outputs": [
        {
          "name": "stdout",
          "output_type": "stream",
          "text": [
            "## 10 Hot Tech Trends to Watch in 2023:\n",
            "\n",
            "1. **Generative AI:** This technology, exemplified by tools like ChatGPT and DALL-E, uses machine learning to generate realistic and creative text, images, and even videos. Expect to see even more innovative applications in 2023, from personalized content creation to advanced research and development.\n",
            "2. **Metaverse:** The race to build immersive virtual worlds is heating up, with companies like Meta"
          ]
        }
      ],
      "source": [
        "output=model.generate_content(prompt, stream=True, generation_config=config)\n",
        "for response in output:\n",
        "  print(response.text, end=\"\")"
      ]
    },
    {
      "cell_type": "code",
      "execution_count": 16,
      "metadata": {
        "executionInfo": {
          "elapsed": 4,
          "status": "ok",
          "timestamp": 1718670127892,
          "user": {
            "displayName": "",
            "userId": ""
          },
          "user_tz": 240
        },
        "id": "zHsKHT0Gq9oM"
      },
      "outputs": [],
      "source": [
        "import requests"
      ]
    },
    {
      "cell_type": "code",
      "execution_count": 17,
      "metadata": {
        "executionInfo": {
          "elapsed": 1331,
          "status": "ok",
          "timestamp": 1718670129221,
          "user": {
            "displayName": "",
            "userId": ""
          },
          "user_tz": 240
        },
        "id": "Ua3UUzCFsaBT"
      },
      "outputs": [],
      "source": [
        "image=requests.get('https://drive.google.com/uc?export=view&id=15ddcn-AIxpvRdWcFGvIr77XLWdo4Maof').content"
      ]
    },
    {
      "cell_type": "code",
      "execution_count": 18,
      "metadata": {
        "executionInfo": {
          "elapsed": 3,
          "status": "ok",
          "timestamp": 1718670129221,
          "user": {
            "displayName": "",
            "userId": ""
          },
          "user_tz": 240
        },
        "id": "m_BWvjCVsxZ8"
      },
      "outputs": [],
      "source": [
        "with open('image.png' , 'wb') as handler:\n",
        "  handler.write(image)"
      ]
    },
    {
      "cell_type": "code",
      "execution_count": 19,
      "metadata": {
        "executionInfo": {
          "elapsed": 1397,
          "status": "ok",
          "timestamp": 1718670130616,
          "user": {
            "displayName": "",
            "userId": ""
          },
          "user_tz": 240
        },
        "id": "itzlylxEtEXK"
      },
      "outputs": [],
      "source": [
        "from langchain.schema.messages import HumanMessage\n",
        "from langchain_google_vertexai import ChatVertexAI"
      ]
    },
    {
      "cell_type": "code",
      "execution_count": 20,
      "metadata": {
        "executionInfo": {
          "elapsed": 12,
          "status": "ok",
          "timestamp": 1718670130616,
          "user": {
            "displayName": "",
            "userId": ""
          },
          "user_tz": 240
        },
        "id": "MBJn4I1itzZA"
      },
      "outputs": [],
      "source": [
        "from PIL import Image, ImageFile\n",
        "import os , sys"
      ]
    },
    {
      "cell_type": "code",
      "execution_count": 21,
      "metadata": {
        "executionInfo": {
          "elapsed": 11,
          "status": "ok",
          "timestamp": 1718670130617,
          "user": {
            "displayName": "",
            "userId": ""
          },
          "user_tz": 240
        },
        "id": "iluHwzQ9t3hE"
      },
      "outputs": [],
      "source": [
        "chat=ChatVertexAI(model_name='gemini-1.0-pro-vision')"
      ]
    },
    {
      "cell_type": "code",
      "execution_count": 52,
      "metadata": {
        "executionInfo": {
          "elapsed": 121,
          "status": "ok",
          "timestamp": 1718671925136,
          "user": {
            "displayName": "",
            "userId": ""
          },
          "user_tz": 240
        },
        "id": "qYb-imvzt8wR"
      },
      "outputs": [],
      "source": [
        "image_message={\n",
        "    \"type\": \"image_url\",\n",
        "    \"image_url\": {\"url\": \"image.png\"}\n",
        "\n",
        "}\n",
        "\n",
        "text_message={\n",
        "    \"type\": \"text\",\n",
        "    \"text\": \"What is the image?, Share a link to purchase a replacement from amazon\"\n",
        "}"
      ]
    },
    {
      "cell_type": "code",
      "execution_count": 23,
      "metadata": {
        "executionInfo": {
          "elapsed": 11,
          "status": "ok",
          "timestamp": 1718670130617,
          "user": {
            "displayName": "",
            "userId": ""
          },
          "user_tz": 240
        },
        "id": "fdZ1lnxXuKEe"
      },
      "outputs": [],
      "source": [
        "message=HumanMessage(content=[text_message, image_message])"
      ]
    },
    {
      "cell_type": "code",
      "execution_count": 24,
      "metadata": {
        "colab": {
          "base_uri": "https://localhost:8080/"
        },
        "executionInfo": {
          "elapsed": 10,
          "status": "ok",
          "timestamp": 1718670130617,
          "user": {
            "displayName": "",
            "userId": ""
          },
          "user_tz": 240
        },
        "id": "HGmF5mZ5uNZd",
        "outputId": "d6fe62ba-1fad-47a8-e6dd-08d665b0c682"
      },
      "outputs": [
        {
          "data": {
            "text/plain": [
              "HumanMessage(content=[{'type': 'text', 'text': 'What is the image?, Share a link to purchase a replacement from amazon'}, {'type': 'image_url', 'image_url': {'url': 'image.png'}}])"
            ]
          },
          "execution_count": 24,
          "metadata": {},
          "output_type": "execute_result"
        }
      ],
      "source": [
        "message"
      ]
    },
    {
      "cell_type": "code",
      "execution_count": 25,
      "metadata": {
        "colab": {
          "base_uri": "https://localhost:8080/",
          "height": 127
        },
        "executionInfo": {
          "elapsed": 5454,
          "status": "ok",
          "timestamp": 1718670136067,
          "user": {
            "displayName": "",
            "userId": ""
          },
          "user_tz": 240
        },
        "id": "4vibcQWeuOls",
        "outputId": "b17fe7dc-d9b5-49e0-d2cc-991bc64215cb"
      },
      "outputs": [
        {
          "name": "stderr",
          "output_type": "stream",
          "text": [
            "/usr/local/lib/python3.10/dist-packages/langchain_core/_api/deprecation.py:119: LangChainDeprecationWarning: The method `BaseChatModel.__call__` was deprecated in langchain-core 0.1.7 and will be removed in 0.3.0. Use invoke instead.\n",
            "  warn_deprecated(\n"
          ]
        },
        {
          "data": {
            "application/vnd.google.colaboratory.intrinsic+json": {
              "type": "string"
            },
            "text/plain": [
              "' This is a replacement filter basket for a Breville coffee maker. You can purchase a replacement from Amazon here: https://www.amazon.com/dp/B078465839?psc=1&ref=ppx_yo2ov_dt_b_product_details'"
            ]
          },
          "execution_count": 25,
          "metadata": {},
          "output_type": "execute_result"
        }
      ],
      "source": [
        "chat([message]).content"
      ]
    },
    {
      "cell_type": "code",
      "execution_count": 26,
      "metadata": {
        "colab": {
          "base_uri": "https://localhost:8080/",
          "height": 798
        },
        "executionInfo": {
          "elapsed": 173,
          "status": "ok",
          "timestamp": 1718670136236,
          "user": {
            "displayName": "",
            "userId": ""
          },
          "user_tz": 240
        },
        "id": "Cdh1VRFhuTVM",
        "outputId": "c9bd0e55-36d5-469d-9658-4f5d3f90741d"
      },
      "outputs": [
        {
          "data": {
            "text/html": [
              "\n",
              "  <div id=\"df-9f73ed70-fa93-42c0-a8b1-d0dadac9e06d\" class=\"colab-df-container\">\n",
              "    <div>\n",
              "<style scoped>\n",
              "    .dataframe tbody tr th:only-of-type {\n",
              "        vertical-align: middle;\n",
              "    }\n",
              "\n",
              "    .dataframe tbody tr th {\n",
              "        vertical-align: top;\n",
              "    }\n",
              "\n",
              "    .dataframe thead th {\n",
              "        text-align: right;\n",
              "    }\n",
              "</style>\n",
              "<table border=\"1\" class=\"dataframe\">\n",
              "  <thead>\n",
              "    <tr style=\"text-align: right;\">\n",
              "      <th></th>\n",
              "      <th>name</th>\n",
              "      <th>url</th>\n",
              "      <th>price</th>\n",
              "      <th>image</th>\n",
              "    </tr>\n",
              "  </thead>\n",
              "  <tbody>\n",
              "    <tr>\n",
              "      <th>0</th>\n",
              "      <td>Saucer</td>\n",
              "      <td>https://www.breville.com/us/en/parts-accessori...</td>\n",
              "      <td>10.95</td>\n",
              "      <td>https://www.breville.com/content/dam/breville/...</td>\n",
              "    </tr>\n",
              "    <tr>\n",
              "      <th>1</th>\n",
              "      <td>Saucer Ceramic</td>\n",
              "      <td>https://www.breville.com/us/en/parts-accessori...</td>\n",
              "      <td>4.99</td>\n",
              "      <td>https://www.breville.com/content/dam/breville/...</td>\n",
              "    </tr>\n",
              "    <tr>\n",
              "      <th>2</th>\n",
              "      <td>Milk Jug Assembly</td>\n",
              "      <td>https://www.breville.com/us/en/parts-accessori...</td>\n",
              "      <td>14.95</td>\n",
              "      <td>https://www.breville.com/content/dam/breville/...</td>\n",
              "    </tr>\n",
              "    <tr>\n",
              "      <th>3</th>\n",
              "      <td>Handle Steam Wand Kit (New Version From 0735 PDC)</td>\n",
              "      <td>https://www.breville.com/us/en/parts-accessori...</td>\n",
              "      <td>8.95</td>\n",
              "      <td>https://www.breville.com/content/dam/breville/...</td>\n",
              "    </tr>\n",
              "    <tr>\n",
              "      <th>4</th>\n",
              "      <td>Spout Juice Small (From 0637 to 1041 PDC)</td>\n",
              "      <td>https://www.breville.com/us/en/parts-accessori...</td>\n",
              "      <td>10.95</td>\n",
              "      <td>https://www.breville.com/content/dam/breville/...</td>\n",
              "    </tr>\n",
              "    <tr>\n",
              "      <th>5</th>\n",
              "      <td>Cleaning Steam Wand</td>\n",
              "      <td>https://www.breville.com/us/en/parts-accessori...</td>\n",
              "      <td>6.95</td>\n",
              "      <td>https://www.breville.com/content/dam/breville/...</td>\n",
              "    </tr>\n",
              "    <tr>\n",
              "      <th>6</th>\n",
              "      <td>Jug Frothing</td>\n",
              "      <td>https://www.breville.com/us/en/parts-accessori...</td>\n",
              "      <td>24.95</td>\n",
              "      <td>https://assets.breville.com/cdn-cgi/image/widt...</td>\n",
              "    </tr>\n",
              "    <tr>\n",
              "      <th>7</th>\n",
              "      <td>Spoon Tamping 50mm</td>\n",
              "      <td>https://www.breville.com/us/en/parts-accessori...</td>\n",
              "      <td>8.95</td>\n",
              "      <td>https://assets.breville.com/cdn-cgi/image/widt...</td>\n",
              "    </tr>\n",
              "    <tr>\n",
              "      <th>8</th>\n",
              "      <td>Collar Grouphead 50mm</td>\n",
              "      <td>https://www.breville.com/us/en/parts-accessori...</td>\n",
              "      <td>6.95</td>\n",
              "      <td>https://assets.breville.com/cdn-cgi/image/widt...</td>\n",
              "    </tr>\n",
              "    <tr>\n",
              "      <th>9</th>\n",
              "      <td>Filter 2 Cup Dual Wall 50mm</td>\n",
              "      <td>https://www.breville.com/us/en/parts-accessori...</td>\n",
              "      <td>12.95</td>\n",
              "      <td>https://www.breville.com/content/dam/breville/...</td>\n",
              "    </tr>\n",
              "    <tr>\n",
              "      <th>10</th>\n",
              "      <td>Filter 1 Cup 50mm</td>\n",
              "      <td>https://www.breville.com/us/en/parts-accessori...</td>\n",
              "      <td>12.95</td>\n",
              "      <td>https://www.breville.com/content/dam/breville/...</td>\n",
              "    </tr>\n",
              "    <tr>\n",
              "      <th>11</th>\n",
              "      <td>Water Tank Assembly</td>\n",
              "      <td>https://www.breville.com/us/en/parts-accessori...</td>\n",
              "      <td>14.95</td>\n",
              "      <td>https://www.breville.com/content/dam/breville/...</td>\n",
              "    </tr>\n",
              "    <tr>\n",
              "      <th>12</th>\n",
              "      <td>Portafilter Assembly 50mm</td>\n",
              "      <td>https://www.breville.com/us/en/parts-accessori...</td>\n",
              "      <td>10.95</td>\n",
              "      <td>https://www.breville.com/content/dam/breville/...</td>\n",
              "    </tr>\n",
              "    <tr>\n",
              "      <th>13</th>\n",
              "      <td>Milk Jug Assembly</td>\n",
              "      <td>https://www.breville.com/us/en/parts-accessori...</td>\n",
              "      <td>16.95</td>\n",
              "      <td>https://www.breville.com/content/dam/breville/...</td>\n",
              "    </tr>\n",
              "    <tr>\n",
              "      <th>14</th>\n",
              "      <td>Filter 2 Cup 50mm</td>\n",
              "      <td>https://www.breville.com/us/en/parts-accessori...</td>\n",
              "      <td>11.95</td>\n",
              "      <td>https://www.breville.com/content/dam/breville/...</td>\n",
              "    </tr>\n",
              "  </tbody>\n",
              "</table>\n",
              "</div>\n",
              "    <div class=\"colab-df-buttons\">\n",
              "\n",
              "  <div class=\"colab-df-container\">\n",
              "    <button class=\"colab-df-convert\" onclick=\"convertToInteractive('df-9f73ed70-fa93-42c0-a8b1-d0dadac9e06d')\"\n",
              "            title=\"Convert this dataframe to an interactive table.\"\n",
              "            style=\"display:none;\">\n",
              "\n",
              "  <svg xmlns=\"http://www.w3.org/2000/svg\" height=\"24px\" viewBox=\"0 -960 960 960\">\n",
              "    <path d=\"M120-120v-720h720v720H120Zm60-500h600v-160H180v160Zm220 220h160v-160H400v160Zm0 220h160v-160H400v160ZM180-400h160v-160H180v160Zm440 0h160v-160H620v160ZM180-180h160v-160H180v160Zm440 0h160v-160H620v160Z\"/>\n",
              "  </svg>\n",
              "    </button>\n",
              "\n",
              "  <style>\n",
              "    .colab-df-container {\n",
              "      display:flex;\n",
              "      gap: 12px;\n",
              "    }\n",
              "\n",
              "    .colab-df-convert {\n",
              "      background-color: #E8F0FE;\n",
              "      border: none;\n",
              "      border-radius: 50%;\n",
              "      cursor: pointer;\n",
              "      display: none;\n",
              "      fill: #1967D2;\n",
              "      height: 32px;\n",
              "      padding: 0 0 0 0;\n",
              "      width: 32px;\n",
              "    }\n",
              "\n",
              "    .colab-df-convert:hover {\n",
              "      background-color: #E2EBFA;\n",
              "      box-shadow: 0px 1px 2px rgba(60, 64, 67, 0.3), 0px 1px 3px 1px rgba(60, 64, 67, 0.15);\n",
              "      fill: #174EA6;\n",
              "    }\n",
              "\n",
              "    .colab-df-buttons div {\n",
              "      margin-bottom: 4px;\n",
              "    }\n",
              "\n",
              "    [theme=dark] .colab-df-convert {\n",
              "      background-color: #3B4455;\n",
              "      fill: #D2E3FC;\n",
              "    }\n",
              "\n",
              "    [theme=dark] .colab-df-convert:hover {\n",
              "      background-color: #434B5C;\n",
              "      box-shadow: 0px 1px 3px 1px rgba(0, 0, 0, 0.15);\n",
              "      filter: drop-shadow(0px 1px 2px rgba(0, 0, 0, 0.3));\n",
              "      fill: #FFFFFF;\n",
              "    }\n",
              "  </style>\n",
              "\n",
              "    <script>\n",
              "      const buttonEl =\n",
              "        document.querySelector('#df-9f73ed70-fa93-42c0-a8b1-d0dadac9e06d button.colab-df-convert');\n",
              "      buttonEl.style.display =\n",
              "        google.colab.kernel.accessAllowed ? 'block' : 'none';\n",
              "\n",
              "      async function convertToInteractive(key) {\n",
              "        const element = document.querySelector('#df-9f73ed70-fa93-42c0-a8b1-d0dadac9e06d');\n",
              "        const dataTable =\n",
              "          await google.colab.kernel.invokeFunction('convertToInteractive',\n",
              "                                                    [key], {});\n",
              "        if (!dataTable) return;\n",
              "\n",
              "        const docLinkHtml = 'Like what you see? Visit the ' +\n",
              "          '<a target=\"_blank\" href=https://colab.research.google.com/notebooks/data_table.ipynb>data table notebook</a>'\n",
              "          + ' to learn more about interactive tables.';\n",
              "        element.innerHTML = '';\n",
              "        dataTable['output_type'] = 'display_data';\n",
              "        await google.colab.output.renderOutput(dataTable, element);\n",
              "        const docLink = document.createElement('div');\n",
              "        docLink.innerHTML = docLinkHtml;\n",
              "        element.appendChild(docLink);\n",
              "      }\n",
              "    </script>\n",
              "  </div>\n",
              "\n",
              "\n",
              "<div id=\"df-b484749a-9bd8-430d-9841-c4f34d604b3a\">\n",
              "  <button class=\"colab-df-quickchart\" onclick=\"quickchart('df-b484749a-9bd8-430d-9841-c4f34d604b3a')\"\n",
              "            title=\"Suggest charts\"\n",
              "            style=\"display:none;\">\n",
              "\n",
              "<svg xmlns=\"http://www.w3.org/2000/svg\" height=\"24px\"viewBox=\"0 0 24 24\"\n",
              "     width=\"24px\">\n",
              "    <g>\n",
              "        <path d=\"M19 3H5c-1.1 0-2 .9-2 2v14c0 1.1.9 2 2 2h14c1.1 0 2-.9 2-2V5c0-1.1-.9-2-2-2zM9 17H7v-7h2v7zm4 0h-2V7h2v10zm4 0h-2v-4h2v4z\"/>\n",
              "    </g>\n",
              "</svg>\n",
              "  </button>\n",
              "\n",
              "<style>\n",
              "  .colab-df-quickchart {\n",
              "      --bg-color: #E8F0FE;\n",
              "      --fill-color: #1967D2;\n",
              "      --hover-bg-color: #E2EBFA;\n",
              "      --hover-fill-color: #174EA6;\n",
              "      --disabled-fill-color: #AAA;\n",
              "      --disabled-bg-color: #DDD;\n",
              "  }\n",
              "\n",
              "  [theme=dark] .colab-df-quickchart {\n",
              "      --bg-color: #3B4455;\n",
              "      --fill-color: #D2E3FC;\n",
              "      --hover-bg-color: #434B5C;\n",
              "      --hover-fill-color: #FFFFFF;\n",
              "      --disabled-bg-color: #3B4455;\n",
              "      --disabled-fill-color: #666;\n",
              "  }\n",
              "\n",
              "  .colab-df-quickchart {\n",
              "    background-color: var(--bg-color);\n",
              "    border: none;\n",
              "    border-radius: 50%;\n",
              "    cursor: pointer;\n",
              "    display: none;\n",
              "    fill: var(--fill-color);\n",
              "    height: 32px;\n",
              "    padding: 0;\n",
              "    width: 32px;\n",
              "  }\n",
              "\n",
              "  .colab-df-quickchart:hover {\n",
              "    background-color: var(--hover-bg-color);\n",
              "    box-shadow: 0 1px 2px rgba(60, 64, 67, 0.3), 0 1px 3px 1px rgba(60, 64, 67, 0.15);\n",
              "    fill: var(--button-hover-fill-color);\n",
              "  }\n",
              "\n",
              "  .colab-df-quickchart-complete:disabled,\n",
              "  .colab-df-quickchart-complete:disabled:hover {\n",
              "    background-color: var(--disabled-bg-color);\n",
              "    fill: var(--disabled-fill-color);\n",
              "    box-shadow: none;\n",
              "  }\n",
              "\n",
              "  .colab-df-spinner {\n",
              "    border: 2px solid var(--fill-color);\n",
              "    border-color: transparent;\n",
              "    border-bottom-color: var(--fill-color);\n",
              "    animation:\n",
              "      spin 1s steps(1) infinite;\n",
              "  }\n",
              "\n",
              "  @keyframes spin {\n",
              "    0% {\n",
              "      border-color: transparent;\n",
              "      border-bottom-color: var(--fill-color);\n",
              "      border-left-color: var(--fill-color);\n",
              "    }\n",
              "    20% {\n",
              "      border-color: transparent;\n",
              "      border-left-color: var(--fill-color);\n",
              "      border-top-color: var(--fill-color);\n",
              "    }\n",
              "    30% {\n",
              "      border-color: transparent;\n",
              "      border-left-color: var(--fill-color);\n",
              "      border-top-color: var(--fill-color);\n",
              "      border-right-color: var(--fill-color);\n",
              "    }\n",
              "    40% {\n",
              "      border-color: transparent;\n",
              "      border-right-color: var(--fill-color);\n",
              "      border-top-color: var(--fill-color);\n",
              "    }\n",
              "    60% {\n",
              "      border-color: transparent;\n",
              "      border-right-color: var(--fill-color);\n",
              "    }\n",
              "    80% {\n",
              "      border-color: transparent;\n",
              "      border-right-color: var(--fill-color);\n",
              "      border-bottom-color: var(--fill-color);\n",
              "    }\n",
              "    90% {\n",
              "      border-color: transparent;\n",
              "      border-bottom-color: var(--fill-color);\n",
              "    }\n",
              "  }\n",
              "</style>\n",
              "\n",
              "  <script>\n",
              "    async function quickchart(key) {\n",
              "      const quickchartButtonEl =\n",
              "        document.querySelector('#' + key + ' button');\n",
              "      quickchartButtonEl.disabled = true;  // To prevent multiple clicks.\n",
              "      quickchartButtonEl.classList.add('colab-df-spinner');\n",
              "      try {\n",
              "        const charts = await google.colab.kernel.invokeFunction(\n",
              "            'suggestCharts', [key], {});\n",
              "      } catch (error) {\n",
              "        console.error('Error during call to suggestCharts:', error);\n",
              "      }\n",
              "      quickchartButtonEl.classList.remove('colab-df-spinner');\n",
              "      quickchartButtonEl.classList.add('colab-df-quickchart-complete');\n",
              "    }\n",
              "    (() => {\n",
              "      let quickchartButtonEl =\n",
              "        document.querySelector('#df-b484749a-9bd8-430d-9841-c4f34d604b3a button');\n",
              "      quickchartButtonEl.style.display =\n",
              "        google.colab.kernel.accessAllowed ? 'block' : 'none';\n",
              "    })();\n",
              "  </script>\n",
              "</div>\n",
              "    </div>\n",
              "  </div>\n"
            ],
            "text/plain": [
              "                                                 name  \\\n",
              "0                                              Saucer   \n",
              "1                                      Saucer Ceramic   \n",
              "2                                   Milk Jug Assembly   \n",
              "3   Handle Steam Wand Kit (New Version From 0735 PDC)   \n",
              "4           Spout Juice Small (From 0637 to 1041 PDC)   \n",
              "5                                 Cleaning Steam Wand   \n",
              "6                                        Jug Frothing   \n",
              "7                                  Spoon Tamping 50mm   \n",
              "8                               Collar Grouphead 50mm   \n",
              "9                         Filter 2 Cup Dual Wall 50mm   \n",
              "10                                  Filter 1 Cup 50mm   \n",
              "11                                Water Tank Assembly   \n",
              "12                          Portafilter Assembly 50mm   \n",
              "13                                  Milk Jug Assembly   \n",
              "14                                  Filter 2 Cup 50mm   \n",
              "\n",
              "                                                  url  price  \\\n",
              "0   https://www.breville.com/us/en/parts-accessori...  10.95   \n",
              "1   https://www.breville.com/us/en/parts-accessori...   4.99   \n",
              "2   https://www.breville.com/us/en/parts-accessori...  14.95   \n",
              "3   https://www.breville.com/us/en/parts-accessori...   8.95   \n",
              "4   https://www.breville.com/us/en/parts-accessori...  10.95   \n",
              "5   https://www.breville.com/us/en/parts-accessori...   6.95   \n",
              "6   https://www.breville.com/us/en/parts-accessori...  24.95   \n",
              "7   https://www.breville.com/us/en/parts-accessori...   8.95   \n",
              "8   https://www.breville.com/us/en/parts-accessori...   6.95   \n",
              "9   https://www.breville.com/us/en/parts-accessori...  12.95   \n",
              "10  https://www.breville.com/us/en/parts-accessori...  12.95   \n",
              "11  https://www.breville.com/us/en/parts-accessori...  14.95   \n",
              "12  https://www.breville.com/us/en/parts-accessori...  10.95   \n",
              "13  https://www.breville.com/us/en/parts-accessori...  16.95   \n",
              "14  https://www.breville.com/us/en/parts-accessori...  11.95   \n",
              "\n",
              "                                                image  \n",
              "0   https://www.breville.com/content/dam/breville/...  \n",
              "1   https://www.breville.com/content/dam/breville/...  \n",
              "2   https://www.breville.com/content/dam/breville/...  \n",
              "3   https://www.breville.com/content/dam/breville/...  \n",
              "4   https://www.breville.com/content/dam/breville/...  \n",
              "5   https://www.breville.com/content/dam/breville/...  \n",
              "6   https://assets.breville.com/cdn-cgi/image/widt...  \n",
              "7   https://assets.breville.com/cdn-cgi/image/widt...  \n",
              "8   https://assets.breville.com/cdn-cgi/image/widt...  \n",
              "9   https://www.breville.com/content/dam/breville/...  \n",
              "10  https://www.breville.com/content/dam/breville/...  \n",
              "11  https://www.breville.com/content/dam/breville/...  \n",
              "12  https://www.breville.com/content/dam/breville/...  \n",
              "13  https://www.breville.com/content/dam/breville/...  \n",
              "14  https://www.breville.com/content/dam/breville/...  "
            ]
          },
          "execution_count": 26,
          "metadata": {},
          "output_type": "execute_result"
        }
      ],
      "source": [
        "#RAG system\n",
        "import pandas as pd\n",
        "\n",
        "d = {'name': [\"Saucer\", \"Saucer Ceramic\", \"Milk Jug Assembly\", \"Handle Steam Wand Kit (New Version From 0735 PDC)\", \"Spout Juice Small (From 0637 to 1041 PDC)\", \"Cleaning Steam Wand\", \"Jug Frothing\", \"Spoon Tamping 50mm\", \"Collar Grouphead 50mm\", \"Filter 2 Cup Dual Wall 50mm\", \"Filter 1 Cup 50mm\", \"Water Tank Assembly\", \"Portafilter Assembly 50mm\", \"Milk Jug Assembly\", \"Filter 2 Cup 50mm\" ],\n",
        "     'url': [\"https://www.breville.com/us/en/parts-accessories/parts/sp0014946.html?sku=SP0014946\", \"https://www.breville.com/us/en/parts-accessories/parts/sp0014914.html?sku=SP0014914\", \"https://www.breville.com/us/en/parts-accessories/parts/sp0011391.html?sku=SP0011391\", \"https://www.breville.com/us/en/parts-accessories/parts/sp0010719.html?sku=SP0010719\", \"https://www.breville.com/us/en/parts-accessories/parts/sp0010718.html?sku=SP0010718\", \"https://www.breville.com/us/en/parts-accessories/parts/sp0003247.html?sku=SP0003247\", \"https://www.breville.com/us/en/parts-accessories/parts/sp0003246.html?sku=SP0003246\", \"https://www.breville.com/us/en/parts-accessories/parts/sp0003243.html?sku=SP0003243\", \"https://www.breville.com/us/en/parts-accessories/parts/sp0003232.html?sku=SP0003232\", \"https://www.breville.com/us/en/parts-accessories/parts/sp0003231.html?sku=SP0003231\", \"https://www.breville.com/us/en/parts-accessories/parts/sp0003230.html?sku=SP0003230\", \"https://www.breville.com/us/en/parts-accessories/parts/sp0003225.html?sku=SP0003225\", \"https://www.breville.com/us/en/parts-accessories/parts/sp0003216.html?sku=SP0003216\", \"https://www.breville.com/us/en/parts-accessories/parts/sp0001875.html?sku=SP0001875\", \"https://www.breville.com/us/en/parts-accessories/parts/sp0000166.html?sku=SP0000166\"],\n",
        "     'price': [\"10.95\", \"4.99\", \"14.95\", \"8.95\", \"10.95\", \"6.95\", \"24.95\", \"8.95\", \"6.95\", \"12.95\", \"12.95\", \"14.95\", \"10.95\", \"16.95\", \"11.95\"],\n",
        "     'image': [\"https://www.breville.com/content/dam/breville/us/catalog/products/images/sp0/sp0014946/tile.jpg\", \"https://www.breville.com/content/dam/breville/us/catalog/products/images/sp0/sp0014914/tile.jpg\", \"https://www.breville.com/content/dam/breville/us/catalog/products/images/sp0/sp0011391/tile.jpg\", \"https://www.breville.com/content/dam/breville/ca/catalog/products/images/sp0/sp0010719/tile.jpg\", \"https://www.breville.com/content/dam/breville/ca/catalog/products/images/sp0/sp0010718/tile.jpg\", \"https://www.breville.com/content/dam/breville/ca/catalog/products/images/sp0/sp0003247/tile.jpg\", \"https://assets.breville.com/cdn-cgi/image/width=400,format=auto/Spare+Parts+/Espresso+Machines/BES250/SP0003246/SP0003246_IMAGE1_400X400.jpg\", \"https://assets.breville.com/cdn-cgi/image/width=400,format=auto/Spare+Parts+/Espresso+Machines/ESP8/SP0003243/SP0003243_IMAGE1_400X400.jpg\", \"https://assets.breville.com/cdn-cgi/image/width=400,format=auto/Spare+Parts+/Espresso+Machines/ESP8/SP0003232/SP0003232_IMAGE1_400x400.jpg\", \"https://www.breville.com/content/dam/breville/au/catalog/products/images/sp0/sp0003231/tile.jpg\", \"https://www.breville.com/content/dam/breville/au/catalog/products/images/sp0/sp0003230/tile.jpg\", \"https://www.breville.com/content/dam/breville/ca/catalog/products/images/sp0/sp0003225/tile.jpg\", \"https://www.breville.com/content/dam/breville/ca/catalog/products/images/sp0/sp0003216/tile.jpg\", \"https://www.breville.com/content/dam/breville/au/catalog/products/images/sp0/sp0001875/tile.jpg\", \"https://www.breville.com/content/dam/breville/us/catalog/products/images/sp0/sp0000166/tile.jpg\"]}\n",
        "df = pd.DataFrame(data=d)\n",
        "df"
      ]
    },
    {
      "cell_type": "code",
      "execution_count": 27,
      "metadata": {
        "colab": {
          "base_uri": "https://localhost:8080/",
          "height": 53
        },
        "executionInfo": {
          "elapsed": 7,
          "status": "ok",
          "timestamp": 1718670136236,
          "user": {
            "displayName": "",
            "userId": ""
          },
          "user_tz": 240
        },
        "id": "udDm8jiGu9ke",
        "outputId": "9e35aa35-1102-42e5-8b47-a50b782c132b"
      },
      "outputs": [
        {
          "data": {
            "application/vnd.google.colaboratory.intrinsic+json": {
              "type": "string"
            },
            "text/plain": [
              "'https://www.breville.com/content/dam/breville/us/catalog/products/images/sp0/sp0014946/tile.jpg'"
            ]
          },
          "execution_count": 27,
          "metadata": {},
          "output_type": "execute_result"
        }
      ],
      "source": [
        "df['image'][0]"
      ]
    },
    {
      "cell_type": "code",
      "execution_count": 28,
      "metadata": {
        "executionInfo": {
          "elapsed": 7,
          "status": "ok",
          "timestamp": 1718670136237,
          "user": {
            "displayName": "",
            "userId": ""
          },
          "user_tz": 240
        },
        "id": "quzricVczRhi"
      },
      "outputs": [],
      "source": [
        "import vertexai, json, requests\n",
        "from vertexai.preview.vision_models import MultiModalEmbeddingModel, Image"
      ]
    },
    {
      "cell_type": "code",
      "execution_count": 29,
      "metadata": {
        "executionInfo": {
          "elapsed": 1021,
          "status": "ok",
          "timestamp": 1718670137251,
          "user": {
            "displayName": "",
            "userId": ""
          },
          "user_tz": 240
        },
        "id": "-jgTex5gzyVV"
      },
      "outputs": [],
      "source": [
        "from astrapy.db import AstraDB , AstraDBCollection"
      ]
    },
    {
      "cell_type": "code",
      "execution_count": 30,
      "metadata": {
        "executionInfo": {
          "elapsed": 178,
          "status": "ok",
          "timestamp": 1718670137425,
          "user": {
            "displayName": "",
            "userId": ""
          },
          "user_tz": 240
        },
        "id": "QLlTzQNFz2mO"
      },
      "outputs": [],
      "source": [
        "embed_model=MultiModalEmbeddingModel.from_pretrained(\"multimodalembedding@001\")"
      ]
    },
    {
      "cell_type": "code",
      "execution_count": 31,
      "metadata": {
        "executionInfo": {
          "elapsed": 6,
          "status": "ok",
          "timestamp": 1718670137426,
          "user": {
            "displayName": "",
            "userId": ""
          },
          "user_tz": 240
        },
        "id": "j_T73-Xu4AcG"
      },
      "outputs": [],
      "source": [
        "ASTRA_DB_API_ENDPOINT='https://89d3cfbd-bc73-48b0-9b79-4ed276ff4e50-us-east1.apps.astra.datastax.com'\n",
        "ASTRA_DB_APPLICATION_TOKEN=\"AstraCS:PLuvIJPWbTwTZmDFiyzIkQUp:45b16ec96c13c1955c405739c5fcf10d6b3fcc46c3e3c22cc5db41e9cacd07cc\"\n",
        "os.environ['ASTRA_DB_APPLICATION_TOKEN']=ASTRA_DB_APPLICATION_TOKEN\n",
        "os.environ['ASTRA_DB_API_ENDPOINT']=ASTRA_DB_API_ENDPOINT"
      ]
    },
    {
      "cell_type": "code",
      "execution_count": 32,
      "metadata": {
        "executionInfo": {
          "elapsed": 5,
          "status": "ok",
          "timestamp": 1718670137426,
          "user": {
            "displayName": "",
            "userId": ""
          },
          "user_tz": 240
        },
        "id": "z66taJ3F33yz"
      },
      "outputs": [],
      "source": [
        "astradb=AstraDB(token=os.getenv(\"ASTRA_DB_APPLICATION_TOKEN\"), api_endpoint=os.getenv(\"ASTRA_DB_API_ENDPOINT\"))"
      ]
    },
    {
      "cell_type": "code",
      "execution_count": 37,
      "metadata": {
        "executionInfo": {
          "elapsed": 15607,
          "status": "ok",
          "timestamp": 1718670493314,
          "user": {
            "displayName": "",
            "userId": ""
          },
          "user_tz": 240
        },
        "id": "VZCY2U3I4PPR"
      },
      "outputs": [],
      "source": [
        "collection=astradb.create_collection(collection_name=\"coffee_shop_ecomerce1\", dimension=1408)"
      ]
    },
    {
      "cell_type": "code",
      "execution_count": 38,
      "metadata": {
        "executionInfo": {
          "elapsed": 8709,
          "status": "ok",
          "timestamp": 1718670502021,
          "user": {
            "displayName": "",
            "userId": ""
          },
          "user_tz": 240
        },
        "id": "B3s8EV8f4Y8G"
      },
      "outputs": [],
      "source": [
        "for i in range(len(df)):\n",
        "  name=df.loc[i, 'name']\n",
        "  image=df.loc[i, \"image\"]\n",
        "  price=df.loc[i, \"price\"]\n",
        "  url=df.loc[i, \"url\"]\n",
        "\n",
        "  img_data=requests.get(image).content\n",
        "  with open(f'{name}.png','wb') as handler:\n",
        "    handler.write(img_data)\n",
        "\n",
        "  img=Image.load_from_file(f'{name}.png')\n",
        "  embeddings=embed_model.get_embeddings(image=img, contextual_text=name)\n",
        "\n",
        "  try:\n",
        "    collection.insert_one({\n",
        "        \"_id\": i,\n",
        "        \"name\": name,\n",
        "        \"image\": image,\n",
        "        \"url\": url,\n",
        "        \"price\": price,\n",
        "        \"$vector\": embeddings.image_embedding,\n",
        "      })\n",
        "  except Exception as error:\n",
        "    # if you've already added this record, skip the error message\n",
        "    error_info = json.loads(str(error))\n",
        "    if error_info[0]['errorCode'] == \"DOCUMENT_ALREADY_EXISTS\":\n",
        "      print(\"Document already exists in the database.  Skipping.\")"
      ]
    },
    {
      "cell_type": "code",
      "execution_count": 39,
      "metadata": {
        "executionInfo": {
          "elapsed": 4,
          "status": "ok",
          "timestamp": 1718670502022,
          "user": {
            "displayName": "",
            "userId": ""
          },
          "user_tz": 240
        },
        "id": "d064L7WeBnaK"
      },
      "outputs": [],
      "source": [
        "#similarity search between query and image embedding\n"
      ]
    },
    {
      "cell_type": "code",
      "execution_count": 40,
      "metadata": {
        "executionInfo": {
          "elapsed": 269,
          "status": "ok",
          "timestamp": 1718670507440,
          "user": {
            "displayName": "",
            "userId": ""
          },
          "user_tz": 240
        },
        "id": "ez0JsQEfE19l"
      },
      "outputs": [],
      "source": [
        "import json\n",
        "img=Image.load_from_file('/content/Cleaning Steam Wand.png')"
      ]
    },
    {
      "cell_type": "code",
      "execution_count": 41,
      "metadata": {
        "executionInfo": {
          "elapsed": 337,
          "status": "ok",
          "timestamp": 1718670510005,
          "user": {
            "displayName": "",
            "userId": ""
          },
          "user_tz": 240
        },
        "id": "PooJupFZE_Ew"
      },
      "outputs": [],
      "source": [
        "embeddings=embed_model.get_embeddings(image=img, contextual_text=\"A machine part\")"
      ]
    },
    {
      "cell_type": "code",
      "execution_count": null,
      "metadata": {
        "collapsed": true,
        "id": "o6aVynp_FFnN"
      },
      "outputs": [],
      "source": [
        "#image embeddings\n",
        "embeddings.image_embedding"
      ]
    },
    {
      "cell_type": "code",
      "execution_count": 43,
      "metadata": {
        "executionInfo": {
          "elapsed": 339,
          "status": "ok",
          "timestamp": 1718670514872,
          "user": {
            "displayName": "",
            "userId": ""
          },
          "user_tz": 240
        },
        "id": "EJi2zRKOFLUA"
      },
      "outputs": [],
      "source": [
        "#Similarity Search\n",
        "documents =collection.vector_find(\n",
        "    embeddings.image_embedding,\n",
        "    limit=3\n",
        ")"
      ]
    },
    {
      "cell_type": "code",
      "execution_count": null,
      "metadata": {
        "id": "VsAK1Ma9sMHM"
      },
      "outputs": [],
      "source": [
        "documents[0]"
      ]
    },
    {
      "cell_type": "code",
      "execution_count": 46,
      "metadata": {
        "executionInfo": {
          "elapsed": 144,
          "status": "ok",
          "timestamp": 1718670639018,
          "user": {
            "displayName": "",
            "userId": ""
          },
          "user_tz": 240
        },
        "id": "ox7kjZVGvucO"
      },
      "outputs": [],
      "source": [
        "related_products_csv=\"name, image, price, url\\n\""
      ]
    },
    {
      "cell_type": "code",
      "execution_count": 47,
      "metadata": {
        "executionInfo": {
          "elapsed": 3,
          "status": "ok",
          "timestamp": 1718670683037,
          "user": {
            "displayName": "",
            "userId": ""
          },
          "user_tz": 240
        },
        "id": "b1dxQ6ARwL3o"
      },
      "outputs": [],
      "source": [
        "for doc in documents:\n",
        "  related_products_csv+=f\"{doc['name']}, {doc['image']}, {doc['price']}, {doc['url']} ,\\n\"\n"
      ]
    },
    {
      "cell_type": "code",
      "execution_count": 48,
      "metadata": {
        "colab": {
          "base_uri": "https://localhost:8080/"
        },
        "executionInfo": {
          "elapsed": 6,
          "status": "ok",
          "timestamp": 1718670690581,
          "user": {
            "displayName": "",
            "userId": ""
          },
          "user_tz": 240
        },
        "id": "L171QDSHwOjO",
        "outputId": "908df82a-ec5d-4d3f-e209-e3160d303d46"
      },
      "outputs": [
        {
          "name": "stdout",
          "output_type": "stream",
          "text": [
            "name, image, price, url\n",
            "Cleaning Steam Wand, https://www.breville.com/content/dam/breville/ca/catalog/products/images/sp0/sp0003247/tile.jpg, 6.95, https://www.breville.com/us/en/parts-accessories/parts/sp0003247.html?sku=SP0003247 ,\n",
            "Spoon Tamping 50mm, https://assets.breville.com/cdn-cgi/image/width=400,format=auto/Spare+Parts+/Espresso+Machines/ESP8/SP0003243/SP0003243_IMAGE1_400X400.jpg, 8.95, https://www.breville.com/us/en/parts-accessories/parts/sp0003243.html?sku=SP0003243 ,\n",
            "Spout Juice Small (From 0637 to 1041 PDC), https://www.breville.com/content/dam/breville/ca/catalog/products/images/sp0/sp0010718/tile.jpg, 10.95, https://www.breville.com/us/en/parts-accessories/parts/sp0010718.html?sku=SP0010718 ,\n",
            "\n"
          ]
        }
      ],
      "source": [
        "print(related_products_csv)"
      ]
    },
    {
      "cell_type": "code",
      "execution_count": 54,
      "metadata": {
        "executionInfo": {
          "elapsed": 165,
          "status": "ok",
          "timestamp": 1718671957234,
          "user": {
            "displayName": "",
            "userId": ""
          },
          "user_tz": 240
        },
        "id": "uklE68hCwYdA"
      },
      "outputs": [],
      "source": [
        "#related products\n",
        "text_message={\n",
        "    \"type\": \"text\",\n",
        "    \"text\": f\" what we have in this image? Share the URL and price for a replacement. {related_products_csv}\"\n",
        "}\n",
        "image_message={\n",
        "    \"type\": \"image_url\",\n",
        "    \"image_url\": {\"url\": \"image.png\"}\n",
        "\n",
        "}\n"
      ]
    },
    {
      "cell_type": "code",
      "execution_count": 61,
      "metadata": {
        "executionInfo": {
          "elapsed": 197,
          "status": "ok",
          "timestamp": 1718672000680,
          "user": {
            "displayName": "",
            "userId": ""
          },
          "user_tz": 240
        },
        "id": "QLrxWZDU0if6"
      },
      "outputs": [],
      "source": [
        "message=HumanMessage(content=[text_message, image_message])"
      ]
    },
    {
      "cell_type": "code",
      "execution_count": 56,
      "metadata": {
        "executionInfo": {
          "elapsed": 3,
          "status": "ok",
          "timestamp": 1718671961405,
          "user": {
            "displayName": "",
            "userId": ""
          },
          "user_tz": 240
        },
        "id": "ZOXuS2HP0pcI"
      },
      "outputs": [],
      "source": [
        "chat=ChatVertexAI(model_name=\"gemini-1.0-pro-vision\")"
      ]
    },
    {
      "cell_type": "code",
      "execution_count": 57,
      "metadata": {
        "executionInfo": {
          "elapsed": 5996,
          "status": "ok",
          "timestamp": 1718671968001,
          "user": {
            "displayName": "",
            "userId": ""
          },
          "user_tz": 240
        },
        "id": "DN_eU3QW0vsX"
      },
      "outputs": [],
      "source": [
        "output=chat([message])"
      ]
    },
    {
      "cell_type": "code",
      "execution_count": 60,
      "metadata": {
        "colab": {
          "base_uri": "https://localhost:8080/",
          "height": 71
        },
        "executionInfo": {
          "elapsed": 163,
          "status": "ok",
          "timestamp": 1718671990847,
          "user": {
            "displayName": "",
            "userId": ""
          },
          "user_tz": 240
        },
        "id": "yFBehXUU1PEx",
        "outputId": "ab6bc70e-d417-442d-c01a-c2d68e6892bf"
      },
      "outputs": [
        {
          "data": {
            "application/vnd.google.colaboratory.intrinsic+json": {
              "type": "string"
            },
            "text/plain": [
              "' This is a  Portafilter Basket - Single Wall (From 0637 to 1041 PDC). The price is 12.95 and the URL is https://www.breville.com/us/en/parts-accessories/parts/sp0003244.html?sku=SP0003244'"
            ]
          },
          "execution_count": 60,
          "metadata": {},
          "output_type": "execute_result"
        }
      ],
      "source": [
        "output.content"
      ]
    },
    {
      "cell_type": "code",
      "execution_count": null,
      "metadata": {
        "id": "qvSgZyqL1Sik"
      },
      "outputs": [],
      "source": []
    }
  ],
  "metadata": {
    "colab": {
      "name": "VertexAI_GCP.ipynb",
      "provenance": []
    },
    "kernelspec": {
      "display_name": "Python 3",
      "name": "python3"
    },
    "language_info": {
      "name": "python"
    }
  },
  "nbformat": 4,
  "nbformat_minor": 0
}
